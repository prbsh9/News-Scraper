{
 "cells": [
  {
   "cell_type": "code",
   "execution_count": 3,
   "metadata": {},
   "outputs": [],
   "source": [
    "from bs4 import BeautifulSoup\n",
    "import requests"
   ]
  },
  {
   "cell_type": "code",
   "execution_count": 82,
   "metadata": {},
   "outputs": [],
   "source": [
    "oKhabar = requests.get('https://www.onlinekhabar.com/').text"
   ]
  },
  {
   "cell_type": "code",
   "execution_count": 83,
   "metadata": {},
   "outputs": [],
   "source": [
    "onlineKhabarSoup = BeautifulSoup(oKhabar, 'lxml')"
   ]
  },
  {
   "cell_type": "code",
   "execution_count": 84,
   "metadata": {},
   "outputs": [],
   "source": [
    "# onlineKhabarSoup.find_all('div')"
   ]
  },
  {
   "cell_type": "code",
   "execution_count": 85,
   "metadata": {},
   "outputs": [],
   "source": [
    "# for x  in onlineKhabarSoup.find_all('section'):\n",
    "#     print(x.text)"
   ]
  },
  {
   "cell_type": "code",
   "execution_count": 86,
   "metadata": {},
   "outputs": [],
   "source": [
    "for x  in onlineKhabarSoup.find_all('a', class_ ='title_large' ):\n",
    "    print(x.text)"
   ]
  },
  {
   "cell_type": "code",
   "execution_count": 87,
   "metadata": {},
   "outputs": [
    {
     "name": "stdout",
     "output_type": "stream",
     "text": [
      "कोरोनाको तेस्रो संक्रमित भेटिए\n",
      "\n",
      "१२ चैत, काठमाडौं । नेपालमा कोरोना भाइरस (कोभिड-१९) को नयाँ संक्रमित भेटिएका छन् । यससँगै कोरोना संक्रमितको संख्या तीन पुगेको छ । टेकुस्थित शुक्रराज ट्रपिकल अस्पतालले पठाएको नमुनामा पोजेटिभ देखिएको हो । नेपालमा अहिलेसम्म ६८७ जनाको नमुना परीक्षण गरिएको छ, जसमध्ये ६८४ को रिपोर्ट नेगेटिभ आएको छ । सुरुमा चीनबाट आएका एक विद्यार्थीमा कोरोना संक्रमण […]\n",
      "https://www.onlinekhabar.com/2020/03/847483\n"
     ]
    }
   ],
   "source": [
    "print(onlineKhabarSoup.find('a', class_ ='title__medium' ).text)\n",
    "print()\n",
    "print(onlineKhabarSoup.find('div', class_ ='ok__bises--2' ).p.text)\n",
    "print(onlineKhabarSoup.find('a', class_ ='title__medium' ).get('href'))\n"
   ]
  },
  {
   "cell_type": "code",
   "execution_count": 88,
   "metadata": {},
   "outputs": [
    {
     "ename": "AttributeError",
     "evalue": "'NoneType' object has no attribute 'text'",
     "output_type": "error",
     "traceback": [
      "\u001b[1;31m---------------------------------------------------------------------------\u001b[0m",
      "\u001b[1;31mAttributeError\u001b[0m                            Traceback (most recent call last)",
      "\u001b[1;32m<ipython-input-88-45930113ea97>\u001b[0m in \u001b[0;36m<module>\u001b[1;34m\u001b[0m\n\u001b[1;32m----> 1\u001b[1;33m \u001b[0mprint\u001b[0m\u001b[1;33m(\u001b[0m\u001b[0monlineKhabarSoup\u001b[0m\u001b[1;33m.\u001b[0m\u001b[0mfind\u001b[0m\u001b[1;33m(\u001b[0m\u001b[1;34m'a'\u001b[0m\u001b[1;33m,\u001b[0m \u001b[0mclass_\u001b[0m \u001b[1;33m=\u001b[0m\u001b[1;34m'title__large'\u001b[0m \u001b[1;33m)\u001b[0m\u001b[1;33m.\u001b[0m\u001b[0mtext\u001b[0m\u001b[1;33m)\u001b[0m\u001b[1;33m\u001b[0m\u001b[1;33m\u001b[0m\u001b[0m\n\u001b[0m\u001b[0;32m      2\u001b[0m \u001b[0mprint\u001b[0m\u001b[1;33m(\u001b[0m\u001b[0monlineKhabarSoup\u001b[0m\u001b[1;33m.\u001b[0m\u001b[0mfind\u001b[0m\u001b[1;33m(\u001b[0m\u001b[1;34m'a'\u001b[0m\u001b[1;33m,\u001b[0m \u001b[0mclass_\u001b[0m \u001b[1;33m=\u001b[0m\u001b[1;34m'title__large'\u001b[0m \u001b[1;33m)\u001b[0m\u001b[1;33m.\u001b[0m\u001b[0mget\u001b[0m\u001b[1;33m(\u001b[0m\u001b[1;34m'href'\u001b[0m\u001b[1;33m)\u001b[0m\u001b[1;33m)\u001b[0m\u001b[1;33m\u001b[0m\u001b[1;33m\u001b[0m\u001b[0m\n\u001b[0;32m      3\u001b[0m \u001b[1;33m\u001b[0m\u001b[0m\n",
      "\u001b[1;31mAttributeError\u001b[0m: 'NoneType' object has no attribute 'text'"
     ]
    }
   ],
   "source": [
    "print(onlineKhabarSoup.find('a', class_ ='title__large' ).text)\n",
    "print(onlineKhabarSoup.find('a', class_ ='title__large' ).get('href'))\n",
    "\n"
   ]
  },
  {
   "cell_type": "code",
   "execution_count": 63,
   "metadata": {
    "scrolled": true
   },
   "outputs": [
    {
     "name": "stdout",
     "output_type": "stream",
     "text": [
      "\n",
      "\n",
      "\n",
      "सगरमाथा पदयात्रा मार्गमा ३ सय बढी विदेशी पदयात्री अलपत्र\n",
      "\n",
      "\n",
      "\n",
      "\n",
      " \n",
      "\n",
      "\n",
      "\n",
      "१ घन्टा\n",
      "\n",
      "१२ चैत, काठमाडौं । सगरमाथा पदयात्रा मार्गमा पदयात्रमा निस्किएका ३ सय भन्दा बढी पदयात्री अलपत्र परेका छन । ट्रेकिङ एजेन्सीज एसोसिएसन अफ नेपाल टानका सदस्य सिम्बिर घलेका अनुसार लुक्लामा मात्र ११९ जना बिदेशी पदयात्री अलपत्र अवस्थामा छन् । अकस्मात घोषित नेपाल लकडाउनका कारण यातायात, होटेल तथा अन्य सबै सेवा बन्द भए पछि पदयात्री अलपत्र परेका […]\n",
      "\n",
      "\n",
      "\n",
      "https://www.onlinekhabar.com/2020/03/847423\n"
     ]
    }
   ],
   "source": [
    "for x in onlineKhabarSoup.find_all('div', class_ ='ok__spot--news' ):\n",
    "#     print(x.h2)\n",
    "    print(x.text)\n",
    "    print(x.a.get('href'))        "
   ]
  },
  {
   "cell_type": "code",
   "execution_count": 80,
   "metadata": {},
   "outputs": [
    {
     "name": "stdout",
     "output_type": "stream",
     "text": [
      " भन्सार छलीका सामानसहित भारतीय नम्बरको ट्रक नियन्त्रणमा \n",
      " बसिबियालो : श्रीमानसँग मनका कुरा \n",
      " कोरोना संक्रमित गायिका कनिकाको तेस्रो रिपोर्ट पनि पोजिटिभ \n",
      " भिडियो कन्फ्रेन्सबाट योगाभ्यास, प्रतिरक्षा क्षमता बढाउने आसन प्राथमिकतामा \n",
      " मन्त्रीका श्रीमानले कहाँबाट पाए पीपीई ? \n"
     ]
    }
   ],
   "source": [
    "# onlineKhabarSoup.find_all('div', class_ ='ok__spot--news' )\n",
    "n = 0\n",
    "for otherHeadlines in onlineKhabarSoup.find_all('h2', class_='post__title'):\n",
    "    print(otherHeadlines.text)\n",
    "    n += 1\n",
    "    if n > 4:\n",
    "        break\n"
   ]
  },
  {
   "cell_type": "code",
   "execution_count": 36,
   "metadata": {},
   "outputs": [
    {
     "data": {
      "text/plain": [
       "<p>१२ चैत, वीरगञ्ज । सामान बोक्ने कन्टेनरभित्र लुकेर काठमाडौंबाट वीरगञ्ज आइपुगेका ५२ जना यात्रुलाई प्रहरीले नियन्त्रणमा लिएको छ । उनीहरुलाई मंगलबार मध्यराति वीरगञ्जको घण्टाघरबाट प्रहरीले नियन्त्रणमा लिएको हो । उनीहरु लकडाउन उल्लंघन गर्दै काठमाडौंबाट चितवनको भरतपुर, हेटौंडा हुँदै वीरगञ्ज आइपुगेका थिए । काठमाडौंमा सामान छाडेर वीरगञ्ज फर्किँदै गरेको ना ५ ख ९५५२ नम्बरको कन्टेनरमा मानिसहरु […]</p>"
      ]
     },
     "execution_count": 36,
     "metadata": {},
     "output_type": "execute_result"
    }
   ],
   "source": []
  },
  {
   "cell_type": "code",
   "execution_count": null,
   "metadata": {},
   "outputs": [],
   "source": []
  },
  {
   "cell_type": "code",
   "execution_count": 69,
   "metadata": {},
   "outputs": [
    {
     "name": "stdout",
     "output_type": "stream",
     "text": [
      "काठमाडौंका सीडीओको चेतावनी : \n",
      "\n",
      "१२ चैत, काठमाडौं । काठमाडौंका प्रमुख जिल्ला अधिकारी जनकराज दाहालले लकडाउनको अवज्ञा गर्दै विनाकारण घरबाहिर निस्किनेलाई ६ महिना जेल हाल्ने चेतावनी दिएका छन् । कोरोना भाइरसको सम्भावित संक्रमण न्यूनीकरणका लागि लकडाउन गरिए पनि कतिपयले हल्काफुल्का रूपमा लिएको भन्दै उनले अवज्ञा गर्नेहरुविरुद्ध प्रशासन निर्मम बन्ने चेतावनी दिए । पहिलोपटक मंगलबार लकडाउन गरिएकाले त्यसको समीक्षा गर्दै आजबाट […]\n",
      "https://www.onlinekhabar.com/2020/03/847417\n"
     ]
    }
   ],
   "source": [
    "mainNews = onlineKhabarSoup.find('div', class_='ok__bises--2')\n",
    "print(mainNews.a.text)\n",
    "print()\n",
    "print(mainNews.p.text)\n",
    "print(mainNews.a.get('href'))"
   ]
  },
  {
   "cell_type": "code",
   "execution_count": 89,
   "metadata": {},
   "outputs": [
    {
     "data": {
      "text/plain": [
       "[<h2 class=\"title__small post__title\"> <a class=\"blk_text\" href=\"https://www.onlinekhabar.com/2020/03/847500\">मनास्लुमा पनि रोकिए ६ विदेशी र ५ नेपाली पदयात्री</a> </h2>,\n",
       " <h2 class=\"title__small post__title\"> <a class=\"blk_text\" href=\"https://www.onlinekhabar.com/2020/03/847499\">कोरोना फैलाएको आरोपमा चीनविरुद्ध मुद्धा</a> </h2>,\n",
       " <h2 class=\"title__small post__title\"> <a class=\"blk_text\" href=\"https://www.onlinekhabar.com/2020/03/847491\">भीम अस्पतालमा भर्ना भएका दुवै जनाको रिपोर्ट ‘नेगेटिभ’</a> </h2>,\n",
       " <h2 class=\"title__small post__title\"> <a class=\"blk_text\" href=\"https://www.onlinekhabar.com/2020/03/847496\">धनुषामा लकडाउनको अवज्ञा गर्ने २१ जना पक्राउ</a> </h2>,\n",
       " <h2 class=\"title__small post__title\"> <a class=\"blk_text\" href=\"https://www.onlinekhabar.com/2020/03/847494\">इटालीमा एक हजार प्रतिशत बढ्यो फेसबुक भिडियो कल</a> </h2>,\n",
       " <h2 class=\"title__small post__title\"> <a class=\"blk_text\" href=\"https://www.onlinekhabar.com/2020/03/847490\">बारामा लकडाउन उलंघन गर्ने ५ जना पक्राउ</a> </h2>,\n",
       " <h2 class=\"title__regular post__title\">\n",
       " <a href=\"https://www.onlinekhabar.com/2020/03/847446\">प्रधानमन्त्रीलाई पूर्वस्वास्थ्यमन्त्रीको पत्र : कोरोना फैलिएका देशबाट आएका सबैको परीक्षण गरौं</a>\n",
       " </h2>,\n",
       " <h2 class=\"title__small post__title\">\n",
       " <a class=\"blk_text\" href=\"https://www.onlinekhabar.com/2020/03/847500\">मनास्लुमा पनि रोकिए ६ विदेशी र ५ नेपाली पदयात्री</a>\n",
       " </h2>,\n",
       " <h2 class=\"title__small post__title\">\n",
       " <a class=\"blk_text\" href=\"https://www.onlinekhabar.com/2020/03/847491\">भीम अस्पतालमा भर्ना भएका दुवै जनाको रिपोर्ट ‘नेगेटिभ’</a>\n",
       " </h2>,\n",
       " <h2 class=\"title__small post__title\">\n",
       " <a class=\"blk_text\" href=\"https://www.onlinekhabar.com/2020/03/847493\">चार दिनदेखि एक यात्रु त्रिभुवन विमानस्थलमा अलपत्र</a>\n",
       " </h2>,\n",
       " <h2 class=\"title__small post__title\">\n",
       " <a class=\"blk_text\" href=\"https://www.onlinekhabar.com/2020/03/847488\">कोरोना कोषमा राजपाका सांसदले १५ दिनको तलव दिने</a>\n",
       " </h2>,\n",
       " <h2 class=\"title__small post__title\">\n",
       " <a class=\"blk_text\" href=\"https://www.onlinekhabar.com/2020/03/847460\">मन्त्रीका श्रीमानले कहाँबाट पाए पीपीई ?</a>\n",
       " </h2>,\n",
       " <h2 class=\"title__regular post__title\">\n",
       " <a href=\"https://www.onlinekhabar.com/2020/03/847496\">धनुषामा लकडाउनको अवज्ञा गर्ने २१ जना पक्राउ</a>\n",
       " </h2>,\n",
       " <h2 class=\"title__small post__title\">\n",
       " <a href=\"https://www.onlinekhabar.com/2020/03/847448\">२० खर्ब डलरको आर्थिक सहायता प्याकेजको तयारीमा अमेरिका</a>\n",
       " </h2>,\n",
       " <h2 class=\"title__small post__title\">\n",
       " <a href=\"https://www.onlinekhabar.com/2020/03/847435\">हवाईसेवा बन्द भएपछि धनगढीबाट नमूना पठाउन समस्या</a>\n",
       " </h2>,\n",
       " <h2 class=\"title__small post__title\">\n",
       " <a href=\"https://www.onlinekhabar.com/2020/03/847431\">दक्षिण एसियामा कोरोना : पाकिस्तानमा धेरै संक्रमित</a>\n",
       " </h2>,\n",
       " <h2 class=\"title__small post__title mmb-0\">\n",
       " <a class=\"blk_text\" href=\"https://www.onlinekhabar.com/2020/03/847423\">सगरमाथा पदयात्रा मार्गमा ३ सय बढी विदेशी पदयात्री अलपत्र</a>\n",
       " </h2>,\n",
       " <h2 class=\"title__small post__title mmb-0\">\n",
       " <a class=\"blk_text\" href=\"https://www.onlinekhabar.com/2020/03/847424\">लकडाउनको अवज्ञा गर्ने पाँच जना कञ्चनपुरबाट पक्राउ</a>\n",
       " </h2>,\n",
       " <h2 class=\"title__small post__title mmb-0\">\n",
       " <a class=\"blk_text\" href=\"https://www.onlinekhabar.com/2020/03/847417\">‘लकडाउन उल्लंघन गर्नेविरुद्ध निर्मम बन्छौं’</a>\n",
       " </h2>,\n",
       " <h2 class=\"title__small post__title mmb-0\">\n",
       " <a class=\"blk_text\" href=\"https://www.onlinekhabar.com/2020/03/847421\">मोरङमा भारतबाट फर्किएका ४७ जना क्वारेन्टाइनमा</a>\n",
       " </h2>,\n",
       " <h2 class=\"title__small post__title mmb-0\">\n",
       " <a class=\"blk_text\" href=\"https://www.onlinekhabar.com/2020/03/847411\">कन्टेनरमा लुकेर वीरगञ्ज आएका ५२ जना पक्राउ</a>\n",
       " </h2>,\n",
       " <h2 class=\"title__small post__title mmb-0\">\n",
       " <a class=\"blk_text\" href=\"https://www.onlinekhabar.com/2020/03/847413\">कोरोना रोकथाम गर्न सुदूरपश्चिम प्रदेश सरकारले छुट्यायो साढे ११ करोड</a>\n",
       " </h2>,\n",
       " <h2 class=\"title__small post__title mmb-0\">\n",
       " <a class=\"blk_text\" href=\"https://www.onlinekhabar.com/2020/03/847404\">लकडाउनको दोस्रो दिन : उपत्यकाबाट बिहानै ३०२ सवारीसाधन नियन्त्रणमा</a>\n",
       " </h2>,\n",
       " <h2 class=\"title__small post__title mmb-0\">\n",
       " <a class=\"blk_text\" href=\"https://www.onlinekhabar.com/2020/03/847403\">कोरोना कोषमा योगदान गर्न प्रदेश ५ सरकारको अपील</a>\n",
       " </h2>,\n",
       " <h2 class=\"title__small post__title mmb-0\">\n",
       " <a class=\"blk_text\" href=\"https://www.onlinekhabar.com/2020/03/847400\">लकडाउनको दोस्रो दिन : रौतहट बिहानैदेखि सुनसान </a>\n",
       " </h2>,\n",
       " <h2 class=\"title__small post__title mmb-0\">\n",
       " <a class=\"blk_text\" href=\"https://www.onlinekhabar.com/2020/03/847398\">नवरात्रको पहिलो दिन : घरमै मनाऔं चैते दशैं</a>\n",
       " </h2>,\n",
       " <h2 class=\"title__small post__title mmb-0\">\n",
       " <a class=\"blk_text\" href=\"https://www.onlinekhabar.com/2020/03/847396\">रोकिराखेको ट्रकमा मोटरसाइकल ठोक्कियो, एक जनाको मृत्यु</a>\n",
       " </h2>,\n",
       " <h2 class=\"title__small post__title mmb-0\">\n",
       " <a class=\"blk_text\" href=\"https://www.onlinekhabar.com/2020/03/847395\">कोरोनाबाट संक्रमित १ लाख बढीले गरे स्वास्थ्यलाभ</a>\n",
       " </h2>,\n",
       " <h2 class=\"title__regular post__title\">\n",
       " <a href=\"https://www.onlinekhabar.com/2020/03/847490\">बारामा लकडाउन उलंघन गर्ने ५ जना पक्राउ</a>\n",
       " </h2>,\n",
       " <h2 class=\"title__small post__title\">\n",
       " <a href=\"https://www.onlinekhabar.com/2020/03/847462\">सेनाको जनसम्पर्क निर्देशनालयमा गैरसैनिकलाई निषेध</a>\n",
       " </h2>,\n",
       " <h2 class=\"title__small post__title\">\n",
       " <a href=\"https://www.onlinekhabar.com/2020/03/847475\">भीम अस्पतालमा भर्ना भएका २ जनाकै रिपोर्ट ‘नेगेटिभ’</a>\n",
       " </h2>,\n",
       " <h2 class=\"title__small post__title\">\n",
       " <a href=\"https://www.onlinekhabar.com/2020/03/847480\">भन्सार छलीका सामानसहित भारतीय नम्बरको ट्रक नियन्त्रणमा</a>\n",
       " </h2>,\n",
       " <h2 class=\"title__small post__title\">\n",
       " <a href=\"https://www.onlinekhabar.com/2020/03/847438\">गुल्मीमा १६ शैय्याको आइसोलेसन वार्ड स्थापना</a>\n",
       " </h2>,\n",
       " <h2 class=\"title__small post__title\">\n",
       " <a class=\"blk_text\" href=\"https://www.onlinekhabar.com/2020/03/847442\">मदन भण्डारी आँखा अस्पताललाई क्वारेनटाइन बनाउने निर्णय</a>\n",
       " </h2>,\n",
       " <h2 class=\"title__small post__title\">\n",
       " <a class=\"blk_text\" href=\"https://www.onlinekhabar.com/2020/03/847434\">काभ्रेमा लकडाउन उल्लंघन गर्ने एक जना पक्राउ, ६३ सवारीसाधन नियन्त्रणमा</a>\n",
       " </h2>,\n",
       " <h2 class=\"title__small post__title\">\n",
       " <a class=\"blk_text\" href=\"https://www.onlinekhabar.com/2020/03/847419\">खोटाङमा तयार भयो ३६ शय्याको क्वारेन्टाइन</a>\n",
       " </h2>,\n",
       " <h2 class=\"title__small post__title\">\n",
       " <a class=\"blk_text\" href=\"https://www.onlinekhabar.com/2020/03/847399\">ट्याक्टरबाट खसेर एक जनाको मृत्यु</a>\n",
       " </h2>,\n",
       " <h2 class=\"title__small post__title\">\n",
       " <a class=\"blk_text\" href=\"https://www.onlinekhabar.com/2020/03/847360\">प्रदेश २ मा तोकियो कोरोना उपचार स्थल</a>\n",
       " </h2>,\n",
       " <h2 class=\"title__small post__title\">\n",
       " <a class=\"blk_text\" href=\"https://www.onlinekhabar.com/2020/03/847340\">गुल्मीमा ट्याक्टर दुर्घटना हुँदा चालकको मृत्यु</a>\n",
       " </h2>,\n",
       " <h2 class=\"title__small post__title\">\n",
       " <a class=\"blk_text\" href=\"https://www.onlinekhabar.com/2020/03/847337\">बागमती प्रदेशले स्थापना गर्‍यो १० करोडको कोरोना राहत कोष</a>\n",
       " </h2>,\n",
       " <h2 class=\"title__small post__title\">\n",
       " <a class=\"blk_text\" href=\"https://www.onlinekhabar.com/2020/03/847325\">विराटनगरको नाकामा मान्छे रोकिए, सामान आयात उस्तै</a>\n",
       " </h2>,\n",
       " <h2 class=\"title__small post__title\">\n",
       " <a class=\"blk_text\" href=\"https://www.onlinekhabar.com/2020/03/847319\">कोरोना राहत कोषमा राप्रपाको ५ लाख</a>\n",
       " </h2>,\n",
       " <h2 class=\"title__small post__title\">\n",
       " <a class=\"blk_text\" href=\"https://www.onlinekhabar.com/2020/03/847333\">वीरगञ्जमा लकडाउन उल्लंघन गर्ने १५० जना पक्राउ</a>\n",
       " </h2>,\n",
       " <h2 class=\"title__small post__title\">\n",
       " <a href=\"https://www.onlinekhabar.com/2020/03/847242\">कोरोना भन्दा खतरनाक मनको डर</a>\n",
       " </h2>,\n",
       " <h2 class=\"title__small post__title\">\n",
       " <a href=\"https://www.onlinekhabar.com/2020/03/846749\">‘लक्षण नभएका मानिसबाट पनि सर्न सक्छ कोरोना’</a>\n",
       " </h2>,\n",
       " <h2 class=\"title__small post__title\">\n",
       " <a href=\"https://www.onlinekhabar.com/2020/03/846736\">‘कोरोना संक्रमित भेटिँदा आतंकित नहुनुस्, सतर्कता अपनाउनुस्’</a>\n",
       " </h2>,\n",
       " <h2 class=\"title__small post__title\">\n",
       " <a href=\"https://www.onlinekhabar.com/2020/03/846497\">सुनसान हुन थाले न्युरोड र असन (फोटो फिचर)</a>\n",
       " </h2>,\n",
       " <h2 class=\"title__small post__title\">\n",
       " <a href=\"https://www.onlinekhabar.com/2020/03/846191\">मलेसियामा कोरोना भाइरस ‘फैलाउने’ त्यो प्रार्थनासभा…</a>\n",
       " </h2>,\n",
       " <h2 class=\"title__small post__title\">\n",
       " <a href=\"https://www.onlinekhabar.com/2020/03/845772\">सार्वजनिक गाडीमा अझै पनि कोचाकोच (भिडियोसहित)</a>\n",
       " </h2>,\n",
       " <h2 class=\"title__small post__title\">\n",
       " <a href=\"https://www.onlinekhabar.com/2020/03/845264\">कोरोना भाइरसले धराशायी बन्दै विश्वका महँगा शहरहरु</a>\n",
       " </h2>,\n",
       " <h2 class=\"title__small post__title\">\n",
       " <a href=\"https://www.onlinekhabar.com/2020/03/844543\">८७ वर्षे डाक्टरको अनुभव : पहिलो अप्रेसन सफल भएन</a>\n",
       " </h2>,\n",
       " <h2 class=\"title__small post__title\">\n",
       " <a href=\"https://www.onlinekhabar.com/2020/03/843963\">कोरानाले ब्युँतायो पूर्वीय सभ्यता : ट्रम्प र युवराज चार्ल्सले गरे नमस्कार</a>\n",
       " </h2>,\n",
       " <h2 class=\"title__small post__title\">\n",
       " <a href=\"https://www.onlinekhabar.com/2020/03/843368\">प्रहरीको सुरक्षा घेराभित्रै बास्कोटाको घरमा कसरी पड्कियो बम ?</a>\n",
       " </h2>,\n",
       " <h2 class=\"title__small post__title\">\n",
       " <a href=\"https://www.onlinekhabar.com/2020/03/841804\">आदिवासी बस्तीमा स्ट्रबेरीले ल्याएको परिवर्तन</a>\n",
       " </h2>,\n",
       " <h2 class=\"title__small post__title\">\n",
       " <a href=\"https://www.onlinekhabar.com/2020/03/841821\">मुसहर बस्तीका एक्ला ‘एसएलसी होल्डर’</a>\n",
       " </h2>,\n",
       " <h2 class=\"title__regular post__title\">\n",
       " <a href=\"https://www.onlinekhabar.com/2020/03/847494\">इटालीमा एक हजार प्रतिशत बढ्यो फेसबुक भिडियो कल</a>\n",
       " </h2>,\n",
       " <h2 class=\"title__small post__title\">\n",
       " <a class=\"blk_text\" href=\"https://www.onlinekhabar.com/2020/03/847444\">कोरोना भाइरस संक्रमण रोकथाम, नियन्त्रण तथा उपचार सरकारी कोषमा एनसेलकाे १० करोड योगदान</a>\n",
       " </h2>,\n",
       " <h2 class=\"title__small post__title\">\n",
       " <a class=\"blk_text\" href=\"https://www.onlinekhabar.com/2020/03/847021\">मेसेन्जरको ग्रुप भिडियो कलमा ७० प्रतिशत वृद्धि</a>\n",
       " </h2>,\n",
       " <h2 class=\"title__small post__title\">\n",
       " <a class=\"blk_text\" href=\"https://www.onlinekhabar.com/2020/03/846831\">कोरोनाको असर फेसबुकमा पनि : घटाउँदैछ भिडियो क्वालिटी</a>\n",
       " </h2>,\n",
       " <h2 class=\"title__small post__title\">\n",
       " <a class=\"blk_text\" href=\"https://www.onlinekhabar.com/2020/03/846360\">स्मार्टफोनको बिक्रीमा इतिहासकै उच्च गिरावट</a>\n",
       " </h2>,\n",
       " <h2 class=\"title__small post__title\">\n",
       " <a class=\"blk_text\" href=\"https://www.onlinekhabar.com/2020/03/846174\">‘सीमा बन्द गर्ने अधिकार नहुँदा समस्या भयो’</a>\n",
       " <i class=\"fas fa-quote-right\"></i>\n",
       " </h2>,\n",
       " <h2 class=\"title__small post__title\">\n",
       " <a class=\"blk_text\" href=\"https://www.onlinekhabar.com/2020/03/845585\">‘आत्तिनु पर्दैन, अप्ठ्यारो परे प्याकेज ल्याउछौं’</a>\n",
       " <i class=\"fas fa-quote-right\"></i>\n",
       " </h2>,\n",
       " <h2 class=\"title__regular post__title\">\n",
       " <a href=\"https://www.onlinekhabar.com/2020/03/847465\">एटीएम नभएका ठाउँमा १ बजेसम्म बैंक खुला रहने</a>\n",
       " </h2>,\n",
       " <h2 class=\"title__small post__title\">\n",
       " <a class=\"blk_text\" href=\"https://www.onlinekhabar.com/2020/03/847500\">मनास्लुमा पनि रोकिए ६ विदेशी र ५ नेपाली पदयात्री</a>\n",
       " </h2>,\n",
       " <h2 class=\"title__small post__title\">\n",
       " <a class=\"blk_text\" href=\"https://www.onlinekhabar.com/2020/03/847447\">विद्युुतिय सेवा लिन सांग्रिला बैंकको आग्रह, कठिनाई परे यि नम्बरमा फोन गर्नुस्</a>\n",
       " </h2>,\n",
       " <h2 class=\"title__small post__title\">\n",
       " <a class=\"blk_text\" href=\"https://www.onlinekhabar.com/2020/03/847353\">कोरोनाविरुद्ध लड्न भारतले जिएसटीको व्यवस्था खुकुलो बनाउने</a>\n",
       " </h2>,\n",
       " <h2 class=\"title__small post__title\">\n",
       " <a class=\"blk_text\" href=\"https://www.onlinekhabar.com/2020/03/847342\">काठमाडौंमा नयाँ मास्क उद्योग, दैनिक ५० हजार बढी मास्क उत्पादन हुने</a>\n",
       " </h2>,\n",
       " <h2 class=\"title__small post__title\">\n",
       " <a class=\"blk_text\" href=\"https://www.onlinekhabar.com/2020/03/847269\">लकडाउनबारे नबुझ्दा भन्सार नाकामा समस्या</a>\n",
       " </h2>,\n",
       " <h2 class=\"title__regular post__title\">\n",
       " <a href=\"https://www.onlinekhabar.com/2020/03/846293\">रेखाको मेकअप</a>\n",
       " </h2>,\n",
       " <h2 class=\"title__small post__title\">\n",
       " <a href=\"https://www.onlinekhabar.com/2020/03/847317\">बिहे अघि र पछि प्रियंकाले के फरक पाइन् ?</a>\n",
       " </h2>,\n",
       " <h2 class=\"title__small post__title\">\n",
       " <a href=\"https://www.onlinekhabar.com/2020/03/847304\">अनुष्काको चिन्ता</a>\n",
       " </h2>,\n",
       " <h2 class=\"title__small post__title\">\n",
       " <a href=\"https://www.onlinekhabar.com/2020/03/847282\">दीपक बज्राचार्यले क्वारेन्टाइनबाटै सांगीतिक कार्यक्रम गर्ने</a>\n",
       " </h2>,\n",
       " <h2 class=\"title__small post__title\">\n",
       " <a href=\"https://www.onlinekhabar.com/2020/03/847156\">हाेम क्वारेन्टाइनमा प्रमाेदः संगीत सिर्जनामै व्यस्त</a>\n",
       " </h2>,\n",
       " <h2 class=\"title__small post__title\">\n",
       " <a href=\"https://www.onlinekhabar.com/2020/03/847143\">अमेरिकन आइडलमा दिवेशको हंगमा, गीत सुनेर रोए जज</a>\n",
       " </h2>,\n",
       " <h2 class=\"title__small post__title\" style=\"font-size: 26px;\">\n",
       " <a href=\"https://www.onlinekhabar.com/2020/03/847476\">कोरोना संक्रमित गायिका कनिकाको तेस्रो रिपोर्ट पनि पोजिटिभ</a>\n",
       " </h2>,\n",
       " <h2 class=\"title__small post__title\">\n",
       " <a href=\"https://www.onlinekhabar.com/2020/03/847464\">टाइगरको चिन्ता: घरको खाना खाएर मोटाउने भएँ’</a>\n",
       " </h2>,\n",
       " <h2 class=\"title__regular post__title\">\n",
       " <a href=\"https://www.onlinekhabar.com/2020/03/847479\">बसिबियालो : श्रीमानसँग मनका कुरा</a>\n",
       " </h2>,\n",
       " <h2 class=\"title__small post__title\">\n",
       " <a class=\"blk_text\" href=\"https://www.onlinekhabar.com/2020/03/847398\">नवरात्रको पहिलो दिन : घरमै मनाऔं चैते दशैं</a>\n",
       " </h2>,\n",
       " <h2 class=\"title__small post__title\">\n",
       " <a class=\"blk_text\" href=\"https://www.onlinekhabar.com/2020/03/847390\">लकडाउनले ब्यूटीपार्लर बन्द भयो ? घरमै गरौं सौन्दर्यको बन्दोबस्त</a>\n",
       " </h2>,\n",
       " <h2 class=\"title__small post__title\">\n",
       " <a class=\"blk_text\" href=\"https://www.onlinekhabar.com/2020/03/847285\">लकडाउनभरी घरभित्रै बस्दा कसरी गर्ने ‘मुड फ्रेस’</a>\n",
       " </h2>,\n",
       " <h2 class=\"title__small post__title\">\n",
       " <a class=\"blk_text\" href=\"https://www.onlinekhabar.com/2020/03/847248\">कोरोनाको महामारी : गाउँघरका आमाबुबालाई सन्तान भेट्ने मेलो !</a>\n",
       " </h2>,\n",
       " <h2 class=\"title__small post__title\" style=\"font-size: 25px;\">\n",
       " <a href=\"https://www.onlinekhabar.com/2020/03/847466\">भिडियो कन्फ्रेन्सबाट योगाभ्यास, प्रतिरक्षा क्षमता बढाउने आसन प्राथमिकतामा</a>\n",
       " </h2>,\n",
       " <h2 class=\"title__regular post__title\">\n",
       " <a href=\"https://www.onlinekhabar.com/2020/03/847486\">टि-२० वरीयतामा नेपाल यथावत्</a>\n",
       " </h2>,\n",
       " <h2 class=\"title__regular post__title\">\n",
       " <a href=\"https://www.onlinekhabar.com/2020/03/847453\">कोरोनाविरुद्ध लड्न मेसी र ग्वार्डिओलाको आर्थिक सहयोग</a>\n",
       " </h2>,\n",
       " <h2 class=\"title__small post__title\">\n",
       " <a href=\"https://www.onlinekhabar.com/2020/03/847329\">ओलम्पिकसहित तीन ठूला खेलकुद प्रतियोगिता एक वर्ष पछि सर्‍यो</a>\n",
       " </h2>,\n",
       " <h2 class=\"title__small post__title\">\n",
       " <a href=\"https://www.onlinekhabar.com/2020/03/847284\">कोरोना संक्रमणका कारण टोकियो ओलम्पिक स्थगित</a>\n",
       " </h2>,\n",
       " <h2 class=\"title__small post__title\">\n",
       " <a href=\"https://www.onlinekhabar.com/2020/03/847279\">आर्सनलका प्रशिक्षक अर्टेटा कोरोना मुक्त</a>\n",
       " </h2>,\n",
       " <h2 class=\"title__small post__title\">\n",
       " <a href=\"https://www.onlinekhabar.com/2020/03/846998\">सन् २००० यता जन्मेकामध्ये डर्टमण्डका सान्चो सबैभन्दा मूल्यवान खेलाडी</a>\n",
       " </h2>,\n",
       " <h2 class=\"title__small post__title\">\n",
       " <a class=\"blk_text\" href=\"https://www.onlinekhabar.com/2020/03/847435\">हवाईसेवा बन्द भएपछि धनगढीबाट नमूना पठाउन समस्या</a>\n",
       " </h2>,\n",
       " <h2 class=\"title__small post__title\">\n",
       " <a class=\"blk_text\" href=\"https://www.onlinekhabar.com/2020/03/847417\">‘लकडाउन उल्लंघन गर्नेविरुद्ध निर्मम बन्छौं’</a>\n",
       " </h2>,\n",
       " <h2 class=\"title__small post__title\">\n",
       " <a class=\"blk_text\" href=\"https://www.onlinekhabar.com/2020/03/847367\">‘लकडाउनले डिफेन्स बलियो भयो, अब आक्रमण गरौं’</a>\n",
       " </h2>,\n",
       " <h2 class=\"title__small post__title\">\n",
       " <a class=\"blk_text\" href=\"https://www.onlinekhabar.com/2020/03/847268\">कोरोना संक्रमित युवतीसँगै कतारबाट आएका १२५ जना सम्पर्कमा</a>\n",
       " </h2>,\n",
       " <h2 class=\"title__small post__title\">\n",
       " <a class=\"blk_text\" href=\"https://www.onlinekhabar.com/2020/03/847362\">टेकु अस्पतालमा तीन घण्टा</a>\n",
       " </h2>,\n",
       " <h2 class=\"title__regular post__title\">\n",
       " <a href=\"https://www.onlinekhabar.com/2020/03/846934\">यूएईमा कोरोना संक्रमित दुवै नेपाली निको भए</a>\n",
       " </h2>,\n",
       " <h2 class=\"title__small post__title\">\n",
       " <a href=\"https://www.onlinekhabar.com/2020/03/847290\">अमेरिकामा कोरोना संक्रमित नेपालीको मृत्यु</a>\n",
       " </h2>,\n",
       " <h2 class=\"title__small post__title\">\n",
       " <a href=\"https://www.onlinekhabar.com/2020/03/845456\">शुक्रबारदेखि अस्ट्रेलिया प्रवेशमा रोक</a>\n",
       " </h2>,\n",
       " <h2 class=\"title__small post__title\">\n",
       " <a href=\"https://www.onlinekhabar.com/2020/03/845339\">गैरआवासीय नेपाली संघद्वारा तीन महिना औपचारिक कार्यक्रम रद्द</a>\n",
       " </h2>,\n",
       " <h2 class=\"title__small post__title\">\n",
       " <a href=\"https://www.onlinekhabar.com/2020/03/845111\">अस्ट्रेलियन दूतावासले भन्यो– सकेसम्म दूतावास नआउनू, कागजात हुलाकबाट पठाउनू</a>\n",
       " </h2>,\n",
       " <h2 class=\"title__small post__title\">\n",
       " <a href=\"https://www.onlinekhabar.com/2020/03/845066\">कोरोना संक्रमण रोक्न एनआरएनए अध्यक्ष पन्तको संयोजकत्वमा उच्चस्तरीय समिति</a>\n",
       " </h2>,\n",
       " <h2 class=\"title__small post__title\">\n",
       " <a href=\"https://www.onlinekhabar.com/2020/03/844840\">अस्ट्रेलियामा कोरोनाको त्रास, यस्तो छ नेपाली समुदायको अवस्था</a>\n",
       " </h2>,\n",
       " <h2 class=\"title__small post__title\">\n",
       " <a href=\"https://www.onlinekhabar.com/2020/03/844754\">ओमानमा आजदेखि नेपाली कामदार जान नपाउने</a>\n",
       " </h2>,\n",
       " <h2 class=\"title__small post__title\">\n",
       " <a href=\"https://www.onlinekhabar.com/2020/03/844560\">नेपाली दूतावास यूएईका अत्यावश्यक बाहेकका सेवा बन्द</a>\n",
       " </h2>,\n",
       " <h2 class=\"title__small post__title\">\n",
       " <a href=\"https://www.onlinekhabar.com/2020/03/847499\">कोरोना फैलाएको आरोपमा चीनविरुद्ध मुद्धा</a>\n",
       " </h2>,\n",
       " <h2 class=\"title__small post__title\">\n",
       " <a href=\"https://www.onlinekhabar.com/2020/03/847431\">दक्षिण एसियामा कोरोना : पाकिस्तानमा धेरै संक्रमित</a>\n",
       " </h2>,\n",
       " <h2 class=\"title__small post__title\">\n",
       " <a href=\"https://www.onlinekhabar.com/2020/03/847395\">कोरोनाबाट संक्रमित १ लाख बढीले गरे स्वास्थ्यलाभ</a>\n",
       " </h2>,\n",
       " <h2 class=\"title__small post__title\">\n",
       " <a href=\"https://www.onlinekhabar.com/2020/03/847386\">फ्रान्समा कोरोनाबाट थप २४० को मृत्यु, नयाँ संक्रमित पनि थपिए</a>\n",
       " </h2>,\n",
       " <h2 class=\"title__regular post__title\">\n",
       " <a href=\"https://www.onlinekhabar.com/2020/03/846484\">काठमाडौंका नाटकघर बन्द भए</a>\n",
       " </h2>,\n",
       " <h2 class=\"title__small post__title\">\n",
       " <a href=\"https://www.onlinekhabar.com/2020/03/846096\">कथा : वयान</a>\n",
       " </h2>,\n",
       " <h2 class=\"title__small post__title\">\n",
       " <a href=\"https://www.onlinekhabar.com/2020/03/846093\">नियात्रा : भगवानको मान्छे</a>\n",
       " </h2>,\n",
       " <h2 class=\"title__small post__title\">\n",
       " <a href=\"https://www.onlinekhabar.com/2020/03/846084\">उपेन्द्र सुब्बा देखिए जति राम्रोचाहिँ होइन है !</a>\n",
       " </h2>,\n",
       " <h2 class=\"title__small post__title\">\n",
       " <a href=\"https://www.onlinekhabar.com/2020/03/845853\">कोरोनाको त्रासले रोकिए साहित्यिक कार्यक्रम</a>\n",
       " </h2>,\n",
       " <h2 class=\"title__small post__title\">\n",
       " <a href=\"https://www.onlinekhabar.com/2020/02/840445\">शुक्लाफाँटा अर्थात् जीवजन्तुको जीवित संग्रहालय</a>\n",
       " </h2>,\n",
       " <h2 class=\"title__small post__title\">\n",
       " <a href=\"https://www.onlinekhabar.com/2020/02/840476\">जगदीशपुर ताल : अजीव चराहरुको आकर्षक घर</a>\n",
       " </h2>,\n",
       " <h2 class=\"title__small post__title\">\n",
       " <a href=\"https://www.onlinekhabar.com/2020/02/840402\">मनै लोभ्याउने माईपोखरी</a>\n",
       " </h2>,\n",
       " <h2 class=\"title__small post__title\">\n",
       " <a href=\"https://www.onlinekhabar.com/2020/02/836749\">हुम्डेको हिउँमा चिप्लेटी खेल्दा</a>\n",
       " </h2>]"
      ]
     },
     "execution_count": 89,
     "metadata": {},
     "output_type": "execute_result"
    }
   ],
   "source": [
    " onlineKhabarSoup.find_all('h2', class_='post__title')"
   ]
  },
  {
   "cell_type": "code",
   "execution_count": 90,
   "metadata": {},
   "outputs": [
    {
     "name": "stdout",
     "output_type": "stream",
     "text": [
      " मनास्लुमा पनि रोकिए ६ विदेशी र ५ नेपाली पदयात्री \n",
      "https://www.onlinekhabar.com/2020/03/847500\n",
      "\n",
      " कोरोना फैलाएको आरोपमा चीनविरुद्ध मुद्धा \n",
      "https://www.onlinekhabar.com/2020/03/847499\n",
      "\n",
      " भीम अस्पतालमा भर्ना भएका दुवै जनाको रिपोर्ट ‘नेगेटिभ’ \n",
      "https://www.onlinekhabar.com/2020/03/847491\n",
      "\n",
      " धनुषामा लकडाउनको अवज्ञा गर्ने २१ जना पक्राउ \n",
      "https://www.onlinekhabar.com/2020/03/847496\n",
      "\n",
      " इटालीमा एक हजार प्रतिशत बढ्यो फेसबुक भिडियो कल \n",
      "https://www.onlinekhabar.com/2020/03/847494\n",
      "\n"
     ]
    }
   ],
   "source": [
    "n = 0\n",
    "x = 4\n",
    "for oH in onlineKhabarSoup.find_all('h2', class_='post__title'):\n",
    "    print(oH.text)  # oH stands for other headlines\n",
    "    print(oH.a.get('href'))\n",
    "    print()\n",
    "    n += 1\n",
    "    if n > x:  # x is parameter\n",
    "        break"
   ]
  },
  {
   "cell_type": "code",
   "execution_count": 176,
   "metadata": {},
   "outputs": [
    {
     "data": {
      "text/plain": [
       "34"
      ]
     },
     "execution_count": 176,
     "metadata": {},
     "output_type": "execute_result"
    }
   ],
   "source": [
    "import csv\n",
    "\n",
    "csv_file = open('newsssss.csv', 'w', encoding='utf8', errors='ignore')\n",
    "csv_writer = csv.writer(csv_file)\n",
    "csv_writer.writerow(['source', 'headline', 'summary', 'newsLink'])"
   ]
  },
  {
   "cell_type": "code",
   "execution_count": 4,
   "metadata": {},
   "outputs": [],
   "source": [
    "def onlineKhabarNews(x=4):\n",
    "    '''Gives fresh onlineKhabarNews from internet while parameter x is\n",
    "    how many other headlines and its limit is around  '''\n",
    "    oKhabar = requests.get('https://www.onlinekhabar.com/').text\n",
    "    onlineKhabarSoup = BeautifulSoup(oKhabar, 'lxml')\n",
    "    # Main news part\n",
    "    print('Here is the main news of onlinekhabar')\n",
    "    print()\n",
    "\n",
    "    mainNews = onlineKhabarSoup.find_all('h2', class_='highlight' )\n",
    "    for mainN in mainNews:\n",
    "        news1_h = mainN.a.text\n",
    "        print(news1_h)\n",
    "        try:\n",
    "            news1_p = mainN.p.text\n",
    "            print(news1_p)\n",
    "        except Exception as e:\n",
    "            news1_p = None\n",
    "        news1_a = mainN.a.get('href')\n",
    "        print(news1_a)\n",
    "        csv_writer.writerow(['onlinekhabar', news1_h, news1_p, news1_a])\n",
    "\n",
    "    print()\n",
    "    print()\n",
    "\n",
    "\n",
    "    print('Here is the other news of onlinekhabar')\n",
    "    print()\n",
    "    print()\n",
    "    n = 0\n",
    "    for oH in onlineKhabarSoup.find_all('h2', class_='post__title'):\n",
    "        print(oH.text)# oH stands for other headlines\n",
    "        print(oH.a.get('href'))\n",
    "        csv_writer.writerow(['onlinekhabar', oH.text, None, oH.a.get('href')])\n",
    "        n += 1\n",
    "        print()\n",
    "        n += 1\n",
    "        if n > x:  # x is parameter\n",
    "            break\n",
    "    csv_file.close()"
   ]
  },
  {
   "cell_type": "code",
   "execution_count": 5,
   "metadata": {},
   "outputs": [
    {
     "name": "stdout",
     "output_type": "stream",
     "text": [
      "Here is the main news of onlinekhabar\n",
      "\n",
      "\n",
      "\n",
      "Here is the other news of onlinekhabar\n",
      "\n",
      "\n",
      " स्पेनले चीनबाट अत्यावश्वक स्वास्थ्य सामग्री ल्याउने \n",
      "https://www.onlinekhabar.com/2020/03/847698\n"
     ]
    },
    {
     "ename": "NameError",
     "evalue": "name 'csv_writer' is not defined",
     "output_type": "error",
     "traceback": [
      "\u001b[1;31m---------------------------------------------------------------------------\u001b[0m",
      "\u001b[1;31mNameError\u001b[0m                                 Traceback (most recent call last)",
      "\u001b[1;32m<ipython-input-5-b02fc3f29e9c>\u001b[0m in \u001b[0;36m<module>\u001b[1;34m\u001b[0m\n\u001b[1;32m----> 1\u001b[1;33m \u001b[0monlineKhabarNews\u001b[0m\u001b[1;33m(\u001b[0m\u001b[1;33m)\u001b[0m\u001b[1;33m\u001b[0m\u001b[1;33m\u001b[0m\u001b[0m\n\u001b[0m",
      "\u001b[1;32m<ipython-input-4-84d5b905aaad>\u001b[0m in \u001b[0;36monlineKhabarNews\u001b[1;34m(x)\u001b[0m\n\u001b[0;32m     32\u001b[0m         \u001b[0mprint\u001b[0m\u001b[1;33m(\u001b[0m\u001b[0moH\u001b[0m\u001b[1;33m.\u001b[0m\u001b[0mtext\u001b[0m\u001b[1;33m)\u001b[0m\u001b[1;31m# oH stands for other headlines\u001b[0m\u001b[1;33m\u001b[0m\u001b[1;33m\u001b[0m\u001b[0m\n\u001b[0;32m     33\u001b[0m         \u001b[0mprint\u001b[0m\u001b[1;33m(\u001b[0m\u001b[0moH\u001b[0m\u001b[1;33m.\u001b[0m\u001b[0ma\u001b[0m\u001b[1;33m.\u001b[0m\u001b[0mget\u001b[0m\u001b[1;33m(\u001b[0m\u001b[1;34m'href'\u001b[0m\u001b[1;33m)\u001b[0m\u001b[1;33m)\u001b[0m\u001b[1;33m\u001b[0m\u001b[1;33m\u001b[0m\u001b[0m\n\u001b[1;32m---> 34\u001b[1;33m         \u001b[0mcsv_writer\u001b[0m\u001b[1;33m.\u001b[0m\u001b[0mwriterow\u001b[0m\u001b[1;33m(\u001b[0m\u001b[1;33m[\u001b[0m\u001b[1;34m'onlinekhabar'\u001b[0m\u001b[1;33m,\u001b[0m \u001b[0moH\u001b[0m\u001b[1;33m.\u001b[0m\u001b[0mtext\u001b[0m\u001b[1;33m,\u001b[0m \u001b[1;32mNone\u001b[0m\u001b[1;33m,\u001b[0m \u001b[0moH\u001b[0m\u001b[1;33m.\u001b[0m\u001b[0ma\u001b[0m\u001b[1;33m.\u001b[0m\u001b[0mget\u001b[0m\u001b[1;33m(\u001b[0m\u001b[1;34m'href'\u001b[0m\u001b[1;33m)\u001b[0m\u001b[1;33m]\u001b[0m\u001b[1;33m)\u001b[0m\u001b[1;33m\u001b[0m\u001b[1;33m\u001b[0m\u001b[0m\n\u001b[0m\u001b[0;32m     35\u001b[0m         \u001b[0mn\u001b[0m \u001b[1;33m+=\u001b[0m \u001b[1;36m1\u001b[0m\u001b[1;33m\u001b[0m\u001b[1;33m\u001b[0m\u001b[0m\n\u001b[0;32m     36\u001b[0m         \u001b[0mprint\u001b[0m\u001b[1;33m(\u001b[0m\u001b[1;33m)\u001b[0m\u001b[1;33m\u001b[0m\u001b[1;33m\u001b[0m\u001b[0m\n",
      "\u001b[1;31mNameError\u001b[0m: name 'csv_writer' is not defined"
     ]
    }
   ],
   "source": [
    "onlineKhabarNews()"
   ]
  },
  {
   "cell_type": "code",
   "execution_count": 7,
   "metadata": {},
   "outputs": [],
   "source": [
    "oKhabar = requests.get('https://www.onlinekhabar.com/').text\n",
    "onlineKhabarSoup = BeautifulSoup(oKhabar, 'lxml')"
   ]
  },
  {
   "cell_type": "code",
   "execution_count": 9,
   "metadata": {},
   "outputs": [
    {
     "data": {
      "text/plain": [
       "[]"
      ]
     },
     "execution_count": 9,
     "metadata": {},
     "output_type": "execute_result"
    }
   ],
   "source": [
    "mainNews"
   ]
  },
  {
   "cell_type": "code",
   "execution_count": 8,
   "metadata": {},
   "outputs": [],
   "source": [
    "mainNews = onlineKhabarSoup.find_all('h2', class_='highlight' )\n",
    "for mainN in mainNews:\n",
    "    news1_h = mainN.a.text\n",
    "    print(news1_h)\n",
    "    try:\n",
    "        news1_p = mainN.p.text\n",
    "        print(news1_p)\n",
    "    except Exception as e:\n",
    "        news1_p = None\n",
    "    news1_a = mainN.a.get('href')\n",
    "    print(news1_a)\n"
   ]
  },
  {
   "cell_type": "code",
   "execution_count": 159,
   "metadata": {},
   "outputs": [
    {
     "name": "stdout",
     "output_type": "stream",
     "text": [
      "Here is the main headlines of ekantipur\n",
      "\n",
      "प्रधानमन्त्रीलाई गगनको पत्र : ‘यही तरिकाले संकटबाट पार पाउन्न सकिन्न’\n",
      "https://ekantipur.com/news/2020/03/25/158513144443722737.html\n",
      "\n",
      "\n",
      "अर्थतन्त्रमा महामारीको झट्का : विश्वम्भर प्याकुर्‍यालको विश्लेषण\n",
      "https://ekantipur.com/opinion/2020/03/25/15851303586998990.html\n",
      "\n",
      "\n",
      "\n",
      "\n",
      "\n",
      "Here are the other headlines of ekantipur\n",
      "\n",
      "लकडाउनमा पनि जुम्लामा दैनिक हजारभन्दा धेरै भित्रिँदै\n",
      "\n",
      "जुम्लालाई चैत ९ गते देखि नै लकडाउन गरिएपनि जिल्ला बाहिरबाट जुम्ला भित्रिनेको संख्या अझै पनि घटेको छैन । विभिन्न कामको सिलसिलामा जिल्ला बाहिर र रोजगारीको लागि भारत गएकाहरु दिन प्रतिदिन लकडाउनको बेवास्ता गरी जिल्ला जिल्लामा आइरहेका छन् ।\n",
      "https://ekantipur.com/pradesh-6/2020/03/25/158512895495035260.html\n",
      "\n",
      "\n",
      "टीकापुरमा १५ वटा आइसोलेसन कक्ष\n",
      "\n",
      "टीकापुरमा कोरोनो भाइरस संक्रमणको उपचारका लागि १५ वटा आइसोलेसन कक्ष बनाइएको छ । टीकापुर अस्पतालमा १२ वटा र साथी अस्पताल प्रालिमा ३ वटा आइलोसेन कक्ष बनाइएको हो ।\n",
      "https://ekantipur.com/pradesh-7/2020/03/25/15851290937172465.html\n",
      "\n",
      "\n",
      "सुनसान पूर्वी नाका (फोटोहरु)\n",
      "\n",
      "केही दिनअघिसम्म व्यस्त थियो मुलुकको पूर्वी नाका । तर, कोरोना संक्रमण रोक्न सरकारले गरेको नाकाबन्दी र लकडाउनका कारण पूर्वको सीमा नाका चकमन्न छ ।\n",
      "https://ekantipur.com/pradesh-1/2020/03/25/158512221869769690.html\n",
      "\n",
      "\n",
      "भागेकाहरुको खोजी भएन \n",
      "\n",
      "नेपालगन्ज नाका हुदै भारतदेखि आएका साढे ५ सय नेपाली बुधबार क्वारेन्टानबाट भागे । फितलो प्रशासनका कारण उनीलाई व्यवस्थित गर्न नसक्दा भागेका हुन् । तर, यसको स्वीकारोक्ति न त प्रहरी गर्छ न जिल्ला प्रशासन नै ।\n",
      "https://ekantipur.com/news/2020/03/25/158512989259873575.html\n",
      "\n",
      "\n",
      "सरकारले नगरकोटका होटललाई क्‍वारेन्टाइन बनाउने \n",
      "\n",
      "सरकारले भक्तपुरको नगरकोटमा रहेका होटललाई क्वारेन्टाइनस्थल बनाउने भएको छ । कोभिड–१९ विरुद्ध क्वारेन्टाइनस्थल निर्माण एवं व्यवस्थापन कार्यदल संयोजक एवं पर्यटनमन्त्री योगेश भट्टराई, भक्तपुरका प्रमुख जिल्ला अधिकारीसहितको टोलीले बुधबार नगरकोटका होटल व्यवसायीसँग छलफल गरेको थियो ।\n",
      "https://ekantipur.com/news/2020/03/25/158512885610476484.html\n",
      "\n",
      "\n",
      "कन्टेनरमा लुकेर आएका ५२ जनालाई क्‍वारेन्टाइनमा राखियो \n",
      "\n",
      "लकडाउनका कारण अन्य सवारी साधन नपाएपछि कन्टेनरभित्र लुकेर ५२ जना मंगलबार मध्यरातमा वीरगन्ज आइपुगेका  ५२ जनालाई क्वारेन्टाइनमा राखिएको छ । काठमाडौं, भरतपुर, हेटौंडाबाट कन्टेनरमा बसेर आएका उनीहरुलाई प्रहरीले वीरगन्जको घन्टाघरमा नियन्त्रणमा लिएको थियो । लकडाउन छलेर मालवाहक कन्टेनरभित्र लुकेर वीरगन्ज आएका ५२ जनालाई बुधबार बिहान क्वारेन्टाइनमा राखिएको छ ।\n",
      "https://ekantipur.com/news/2020/03/25/158511818555471249.html\n",
      "\n",
      "\n"
     ]
    }
   ],
   "source": [
    "def ekantipurKhabarNews():\n",
    "    '''Gives fresh and realtime ekantipur from internet\n",
    "    using BeautifulSoup  '''\n",
    "    e_kantipur = requests.get('https://www.ekantipur.com/').text\n",
    "    ekantipurSoup = BeautifulSoup(e_kantipur, 'lxml')\n",
    "    # Main news part\n",
    "    print('Here is the main headlines of ekantipur')\n",
    "    print()\n",
    "\n",
    "    for mainN in ekantipurSoup.find_all('h1'):\n",
    "#     print(mainN)\n",
    "        if mainN.a != None:\n",
    "            print(mainN.a.text)\n",
    "            print(mainN.a.get('href')) \n",
    "            print()\n",
    "            print()\n",
    "    print()\n",
    "    print()\n",
    "    print()\n",
    "    print('Here are the other headlines of ekantipur')\n",
    "    print()\n",
    "\n",
    "    extraNews = ekantipurSoup.find('div', class_='more-main-news').find_all('article')\n",
    "    for otherN in extraNews:\n",
    "        print(otherN.h2.text)\n",
    "        print()\n",
    "        print(otherN.p.text)\n",
    "        print(otherN.h2.a.get('href'))\n",
    "        print()\n",
    "        print()\n",
    "\n",
    "ekantipurKhabarNews()"
   ]
  },
  {
   "cell_type": "code",
   "execution_count": 98,
   "metadata": {},
   "outputs": [],
   "source": [
    "e_kantipur = requests.get('https://www.ekantipur.com/').text\n",
    "ekantipurSoup = BeautifulSoup(e_kantipur, 'lxml')"
   ]
  },
  {
   "cell_type": "code",
   "execution_count": 106,
   "metadata": {},
   "outputs": [
    {
     "name": "stdout",
     "output_type": "stream",
     "text": [
      "थप एकमा देखियो कोरोना संक्रमण\n",
      "कन्टेनरमा लुकेर आएका ५२ जनालाई क्‍वारेन्टाइनमा राखियो \n",
      "लण्डनमा कोरोना संक्रमित नेपाली निको भएर घर फर्किइन्\n",
      "अस्पतालमै बस्न चाहन्छन् स्वास्थ्यकर्मी !\n",
      "क्वारेन्टाइनमा राखिएका कामदारलाई खाद्यान्‍नको अभाव हुन दिइएको छैन : कतार\n",
      "ग्वार्डिओला र मेसीद्वारा लाखौं युरो सहयोग\n",
      "सुनसान पूर्वी नाका (फोटोहरु)\n",
      "कोरोना प्रकोप : ४ लाख बढी स‌ंक्रमित, करिब १९ हजारको मृत्यु\n",
      "पीपीई नहुँदा जोखिममा स्वास्थ्यकर्मी\n",
      "सीमामा दिनभर अलपत्र, ‘भारतले जा भन्यो, नेपालले नआइज भन्यो’\n",
      "लकडाउनको आंशिक उल्लंघन\n",
      "बच्‍ने र बचाउने बेला\n",
      "दुई दिनमा राष्ट्र बैंकबाट तीन अर्ब बाहिरियो\n"
     ]
    }
   ],
   "source": [
    "for mainN in ekantipurSoup.find_all('a'):\n",
    "#     print(mainN)\n",
    "    if mainN.get('data-type') == 'title':\n",
    "        print(mainN.text)"
   ]
  },
  {
   "cell_type": "code",
   "execution_count": 117,
   "metadata": {},
   "outputs": [
    {
     "name": "stdout",
     "output_type": "stream",
     "text": [
      "थप एकमा देखियो कोरोना संक्रमण\n",
      "https://ekantipur.com/news/2020/03/25/158511966452334688.html\n",
      "कन्टेनरमा लुकेर आएका ५२ जनालाई क्‍वारेन्टाइनमा राखियो \n",
      "https://ekantipur.com/news/2020/03/25/158511818555471249.html\n",
      "लण्डनमा कोरोना संक्रमित नेपाली निको भएर घर फर्किइन्\n",
      "https://ekantipur.com/diaspora/2020/03/25/158511943380058627.html\n"
     ]
    }
   ],
   "source": [
    "for mainN in ekantipurSoup.find_all('h1'):\n",
    "#     print(mainN)\n",
    "    if mainN.a != None:\n",
    "        print(mainN.a.text)\n",
    "        print(mainN.a.get('href')) \n",
    "#     if mainN.get('data-type') == 'title':\n",
    "#         print(mainN.text)"
   ]
  },
  {
   "cell_type": "code",
   "execution_count": 143,
   "metadata": {},
   "outputs": [
    {
     "name": "stdout",
     "output_type": "stream",
     "text": [
      "कोरोना प्रकोप : ४ लाख बढी स‌ंक्रमित, करिब १९ हजारको मृत्यु\n",
      "\n",
      "कोरोना भाइरस(कोभिड–१९ं को संक्रमणबाट इटालीमा मृत्यु हुनेको संख्या करिब ७ हजार पुगेको छ । मंगलबार मात्रै इटालीमा कोभिड–१९ को संक्रमणबाट ७ सय ४३ जनाको मृत्यु भएको छ ।\n",
      "https://ekantipur.com/world/2020/03/25/158511060864576719.html\n",
      "\n",
      "\n",
      "पीपीई नहुँदा जोखिममा स्वास्थ्यकर्मी\n",
      "\n",
      "कोभिड–१९ संक्रमितको उपचार गर्दा अनिवार्य रूपमा लगाउनुपर्ने पीपीई (व्यक्तिगत सुरक्षा सामग्री) नहुँदा चिकित्सकमा थप जोखिम निम्तिने खतरा देखिएको छ । अस्पताल पुग्ने शंकास्पद बिरामीको उपचारमा पीपीईबिनै चिकित्सकहरू खटिइरहेका छन् ।\n",
      "https://ekantipur.com/news/2020/03/25/158510567795883198.html\n",
      "\n",
      "\n",
      "सीमामा दिनभर अलपत्र, ‘भारतले जा भन्यो, नेपालले नआइज भन्यो’\n",
      "\n",
      "कोरोना भाइरस संक्रमणको त्रासपछि भारतका विभिन्न ठाउँबाट घर जान आएर सोमबार रातिदेखि धनगढीको गौरीफन्टा नाकामा रोकिएका नेपालीहरूलाई मंगलबार साँझ प्रवेश दिइएको छ ।\n",
      "https://ekantipur.com/news/2020/03/25/158510178864433217.html\n",
      "\n",
      "\n",
      "लकडाउनको आंशिक उल्लंघन\n",
      "\n",
      "कोभिड–१९ को सम्भावित संक्रमण रोक्न सरकारले एक सातासम्म आह्वान गरेको ‘लकडाउन’ को पहिलो दिन पूर्ण रूपमा पालना भएन । अत्यावश्यक कामबाहेकमा बाहिर ननिस्कन भनिए पनि मंगलबार राजधानी र बाहिरका मुख्य चोक, पर्यटकीय केन्द्र र आसपासमा सर्वसाधारणले बेवास्ता गरे ।\n",
      "https://ekantipur.com/news/2020/03/25/158509824238298257.html\n",
      "\n",
      "\n",
      "बच्‍ने र बचाउने बेला\n",
      "\n",
      "सरकारले हिजो (मंगलबार) बाट लकडाउन गर्‍यो । मचाहिँ चार दिनदेखि सेल्फ–क्वारेन्टाइनमा छु । ‘परदेशी २’ को सुटिङमा पोखरा थिएँ, कोरोना भाइरसको त्रास फैलिएपछि सुटिङ रोक्यौं ।\n",
      "https://ekantipur.com/news/2020/03/25/158509989858297144.html\n",
      "\n",
      "\n",
      "दुई दिनमा राष्ट्र बैंकबाट तीन अर्ब बाहिरियो\n",
      "\n",
      "सरकारले आवश्यकबाहेक सबै सेवा (क्षेत्र) बन्द गरेपछि बैंक तथा वित्तीय संस्थाबाट नगद निकाल्ने क्रम बढेको छ । एटीएमबाट धेरै पैसा झिकिएको बैंकहरुले बताएका छन् । दुईचार दिनयता ढुकुटीबाट ठूलो पैसा बाहिरिएको राष्ट्र बैंकको तथ्यांक छ ।\n",
      "https://ekantipur.com/business/2020/03/25/158510356842444503.html\n",
      "\n",
      "\n"
     ]
    }
   ],
   "source": [
    "extraNews = ekantipurSoup.find('div', class_='more-main-news').find_all('article')\n",
    "for otherN in extraNews:\n",
    "    print(otherN.h2.text)\n",
    "    print()\n",
    "    print(otherN.p.text)\n",
    "    print(otherN.h2.a.get('href'))\n",
    "    print()\n",
    "    print()\n",
    "#     print(otherN)"
   ]
  },
  {
   "cell_type": "code",
   "execution_count": 139,
   "metadata": {},
   "outputs": [
    {
     "data": {
      "text/plain": [
       "<article attr-newsid=\"9508196\" class=\"normal\" id=\"XBHmI6j\" style=\"display: inline-block;\"><h2><a data-type=\"title\" href=\"https://ekantipur.com/world/2020/03/25/158511060864576719.html\" onclick=\"gaEvent('Kantipur Top News','Clicked','कोरोना प्रकोप : ४ लाख बढी स‌ंक्रमित, करिब १९ हजारको मृत्यु')\">कोरोना प्रकोप : ४ लाख बढी स‌ंक्रमित, करिब १९ हजारको मृत्यु</a></h2><p class=\"\" data-type=\"summary\" id=\"2\" spellcheck=\"false\" style=\"position: relative;\">कोरोना भाइरस(कोभिड–१९ं को संक्रमणबाट इटालीमा मृत्यु हुनेको संख्या करिब ७ हजार पुगेको छ । मंगलबार मात्रै इटालीमा कोभिड–१९ को संक्रमणबाट ७ सय ४३ जनाको मृत्यु भएको छ ।</p><div class=\"meta-links\"><a attr-newsid=\"9508196\" class=\"saveNewsLink\" data-type=\"save-news\" onclick=\"saveNews('9508196',this);\" style=\"cursor:pointer;\"><i class=\"icon-save\"></i> संग्रह</a><a class=\"shareText\" data-type=\"share-news\" onclick=\"fbShare('https://ekantipur.com/world/2020/03/25/158511060864576719.html','कोरोना प्रकोप : ४ लाख बढी स‌ंक्रमित, करिब १९ हजारको मृत्यु');\" style=\"cursor:pointer;\"> <i class=\"icon-share\"></i> सेयर</a></div></article>"
      ]
     },
     "execution_count": 139,
     "metadata": {},
     "output_type": "execute_result"
    }
   ],
   "source": [
    "extraNews"
   ]
  },
  {
   "cell_type": "code",
   "execution_count": 137,
   "metadata": {},
   "outputs": [
    {
     "data": {
      "text/plain": [
       "'<div class=\"more-main-news\">\\n <div class=\"col-xs-5 col-sm-5 col-md-5\" data-sort-order=\"3\">\\n  <article attr-newsid=\"9508196\" class=\"normal\" id=\"XBHmI6j\" style=\"display: inline-block;\">\\n   <h2>\\n    <a data-type=\"title\" href=\"https://ekantipur.com/world/2020/03/25/158511060864576719.html\" onclick=\"gaEvent(\\'Kantipur Top News\\',\\'Clicked\\',\\'कोरोना प्रकोप : ४ लाख बढी स\\u200cंक्रमित, करिब १९ हजारको मृत्यु\\')\">\\n     कोरोना प्रकोप : ४ लाख बढी स\\u200cंक्रमित, करिब १९ हजारको मृत्यु\\n    </a>\\n   </h2>\\n   <p class=\"\" data-type=\"summary\" id=\"2\" spellcheck=\"false\" style=\"position: relative;\">\\n    कोरोना भाइरस(कोभिड–१९ं को संक्रमणबाट इटालीमा मृत्यु हुनेको संख्या करिब ७ हजार पुगेको छ । मंगलबार मात्रै इटालीमा कोभिड–१९ को संक्रमणबाट ७ सय ४३ जनाको मृत्यु भएको छ ।\\n   </p>\\n   <div class=\"meta-links\">\\n    <a attr-newsid=\"9508196\" class=\"saveNewsLink\" data-type=\"save-news\" onclick=\"saveNews(\\'9508196\\',this);\" style=\"cursor:pointer;\">\\n     <i class=\"icon-save\">\\n     </i>\\n     संग्रह\\n    </a>\\n    <a class=\"shareText\" data-type=\"share-news\" onclick=\"fbShare(\\'https://ekantipur.com/world/2020/03/25/158511060864576719.html\\',\\'कोरोना प्रकोप : ४ लाख बढी स\\u200cंक्रमित, करिब १९ हजारको मृत्यु\\');\" style=\"cursor:pointer;\">\\n     <i class=\"icon-share\">\\n     </i>\\n     सेयर\\n    </a>\\n   </div>\\n  </article>\\n  <article attr-newsid=\"9508191\" class=\"normal ui-draggable ui-draggable-handle ui-droppable\" data-sort-order=\"10\" id=\"Gy4ToRA\" style=\"display: inline-block;\">\\n   <h2>\\n    <a data-type=\"title\" href=\"https://ekantipur.com/news/2020/03/25/158510567795883198.html\" onclick=\"gaEvent(\\'Kantipur Top News\\',\\'Clicked\\',\\'पीपीई नहुँदा जोखिममा स्वास्थ्यकर्मी\\')\">\\n     पीपीई नहुँदा जोखिममा स्वास्थ्यकर्मी\\n    </a>\\n   </h2>\\n   <p class=\"\" data-type=\"summary\" id=\"2\" spellcheck=\"false\" style=\"position: relative;\">\\n    कोभिड–१९ संक्रमितको उपचार गर्दा अनिवार्य रूपमा लगाउनुपर्ने पीपीई (व्यक्तिगत सुरक्षा सामग्री) नहुँदा चिकित्सकमा थप जोखिम निम्तिने खतरा देखिएको छ । अस्पताल पुग्ने शंकास्पद बिरामीको उपचारमा पीपीईबिनै चिकित्सकहरू खटिइरहेका छन् ।\\n   </p>\\n   <div class=\"meta-links\">\\n    <a attr-newsid=\"9508191\" class=\"saveNewsLink\" data-type=\"save-news\" onclick=\"saveNews(\\'9508191\\',this);\" style=\"cursor:pointer;\">\\n     <i class=\"icon-save\">\\n     </i>\\n     संग्रह\\n    </a>\\n    <a class=\"shareText\" data-type=\"share-news\" onclick=\"fbShare(\\'https://ekantipur.com/news/2020/03/25/158510567795883198.html\\',\\'पीपीई नहुँदा जोखिममा स्वास्थ्यकर्मी\\');\" style=\"cursor:pointer;\">\\n     <i class=\"icon-share\">\\n     </i>\\n     सेयर\\n    </a>\\n   </div>\\n  </article>\\n  <article attr-newsid=\"9508183\" class=\"normal ui-draggable ui-draggable-handle ui-droppable\" data-sort-order=\"12\" id=\"XBHmI6j\" style=\"display: inline-block;\">\\n   <h2>\\n    <a data-type=\"title\" href=\"https://ekantipur.com/news/2020/03/25/158510178864433217.html\" onclick=\"gaEvent(\\'Kantipur Top News\\',\\'Clicked\\',\\'सीमामा दिनभर अलपत्र, ‘भारतले जा भन्यो, नेपालले नआइज भन्यो’\\')\">\\n     सीमामा दिनभर अलपत्र, ‘भारतले जा भन्यो, नेपालले नआइज भन्यो’\\n    </a>\\n   </h2>\\n   <p class=\"\" data-type=\"summary\" id=\"2\" spellcheck=\"false\" style=\"position: relative;\">\\n    कोरोना भाइरस संक्रमणको त्रासपछि भारतका विभिन्न ठाउँबाट घर जान आएर सोमबार रातिदेखि धनगढीको गौरीफन्टा नाकामा रोकिएका नेपालीहरूलाई मंगलबार साँझ प्रवेश दिइएको छ ।\\n   </p>\\n   <div class=\"meta-links\">\\n    <a attr-newsid=\"9508183\" class=\"saveNewsLink\" data-type=\"save-news\" onclick=\"saveNews(\\'9508183\\',this);\" style=\"cursor:pointer;\">\\n     <i class=\"icon-save\">\\n     </i>\\n     संग्रह\\n    </a>\\n    <a class=\"shareText\" data-type=\"share-news\" onclick=\"fbShare(\\'https://ekantipur.com/news/2020/03/25/158510178864433217.html\\',\\'सीमामा दिनभर अलपत्र, ‘भारतले जा भन्यो, नेपालले नआइज भन्यो’\\');\" style=\"cursor:pointer;\">\\n     <i class=\"icon-share\">\\n     </i>\\n     सेयर\\n    </a>\\n   </div>\\n  </article>\\n  <div class=\"pnl-control actions pull-left\">\\n   <a class=\"\" onclick=\"MainLayout.addNewsBox(this);\" title=\"Add Article\">\\n    <i class=\"icon-plus font-blue\">\\n    </i>\\n   </a>\\n   <a class=\"\" onclick=\"MainLayout.removeNewsBox(this);\" title=\"Delete Article\">\\n    <i class=\"icon-close\">\\n    </i>\\n   </a>\\n  </div>\\n </div>\\n <div class=\"col-xs-7 col-sm-7 col-md-7\" data-sort-order=\"4\">\\n  <article attr-newsid=\"9508179\" class=\"normal ui-draggable ui-draggable-handle ui-droppable\" id=\"nFFRybV\" style=\"display: inline-block;\">\\n   <h2>\\n    <a data-type=\"title\" href=\"https://ekantipur.com/news/2020/03/25/158509824238298257.html\" onclick=\"gaEvent(\\'Kantipur Top News\\',\\'Clicked\\',\\'लकडाउनको आंशिक उल्लंघन\\')\">\\n     लकडाउनको आंशिक उल्लंघन\\n    </a>\\n   </h2>\\n   <div class=\"image\" data-image-size=\"240x158\" data-type=\"image\">\\n    <figure>\\n     <a href=\"https://ekantipur.com/news/2020/03/25/158509824238298257.html\">\\n      <img alt=\"\" src=\"//assets-cdn.kantipurdaily.com/uploads/source/news/kantipur/2020/miscellaneous/ekantakuna-2532020020217-240x158.jpg\"/>\\n     </a>\\n    </figure>\\n   </div>\\n   <p class=\"\" data-type=\"summary\" id=\"5\" spellcheck=\"false\" style=\"position: relative;\">\\n    कोभिड–१९ को सम्भावित संक्रमण रोक्न सरकारले एक सातासम्म आह्वान गरेको ‘लकडाउन’ को पहिलो दिन पूर्ण रूपमा पालना भएन । अत्यावश्यक कामबाहेकमा बाहिर ननिस्कन भनिए पनि मंगलबार राजधानी र बाहिरका मुख्य चोक, पर्यटकीय केन्द्र र आसपासमा सर्वसाधारणले बेवास्ता गरे ।\\n   </p>\\n   <div class=\"meta-links\">\\n    <a attr-newsid=\"9508179\" class=\"saveNewsLink\" data-type=\"save-news\" onclick=\"saveNews(\\'9508179\\',this);\" style=\"cursor:pointer;\">\\n     <i class=\"icon-save\">\\n     </i>\\n     संग्रह\\n    </a>\\n    <a class=\"shareText\" data-type=\"share-news\" onclick=\"fbShare(\\'https://ekantipur.com/news/2020/03/25/158509824238298257.html\\',\\'लकडाउनको आंशिक उल्लंघन\\');\" style=\"cursor:pointer;\">\\n     <i class=\"icon-share\">\\n     </i>\\n     सेयर\\n    </a>\\n   </div>\\n  </article>\\n  <article attr-newsid=\"9508181\" class=\"normal ui-draggable ui-draggable-handle ui-droppable\" id=\"jbfdkId\" style=\"display: inline-block;\">\\n   <h2>\\n    <a data-type=\"title\" href=\"https://ekantipur.com/news/2020/03/25/158509989858297144.html\" onclick=\"gaEvent(\\'Kantipur Top News\\',\\'Clicked\\',\\'बच्\\u200dने र बचाउने बेला\\')\">\\n     बच्\\u200dने र बचाउने बेला\\n    </a>\\n   </h2>\\n   <p class=\"\" data-type=\"summary\" id=\"6\" spellcheck=\"false\" style=\"position: relative;\">\\n    सरकारले हिजो (मंगलबार) बाट लकडाउन गर्\\u200dयो । मचाहिँ चार दिनदेखि सेल्फ–क्वारेन्टाइनमा छु । ‘परदेशी २’ को सुटिङमा पोखरा थिएँ, कोरोना भाइरसको त्रास फैलिएपछि सुटिङ रोक्यौं ।\\n   </p>\\n   <div class=\"meta-links\">\\n    <a attr-newsid=\"9508181\" class=\"saveNewsLink\" data-type=\"save-news\" onclick=\"saveNews(\\'9508181\\',this);\" style=\"cursor:pointer;\">\\n     <i class=\"icon-save\">\\n     </i>\\n     संग्रह\\n    </a>\\n    <a class=\"shareText\" data-type=\"share-news\" onclick=\"fbShare(\\'https://ekantipur.com/news/2020/03/25/158509989858297144.html\\',\\'बच्\\u200dने र बचाउने बेला\\');\" style=\"cursor:pointer;\">\\n     <i class=\"icon-share\">\\n     </i>\\n     सेयर\\n    </a>\\n   </div>\\n  </article>\\n  <article attr-newsid=\"9508185\" class=\"normal ui-draggable ui-draggable-handle ui-droppable\" data-sort-order=\"11\" id=\"aLWtVvs\" style=\"display: inline-block;\">\\n   <h2>\\n    <a data-type=\"title\" href=\"https://ekantipur.com/business/2020/03/25/158510356842444503.html\" onclick=\"gaEvent(\\'Kantipur Top News\\',\\'Clicked\\',\\'दुई दिनमा राष्ट्र बैंकबाट तीन अर्ब बाहिरियो\\')\">\\n     दुई दिनमा राष्ट्र बैंकबाट तीन अर्ब बाहिरियो\\n    </a>\\n   </h2>\\n   <p class=\"\" data-type=\"summary\" id=\"6\" spellcheck=\"false\" style=\"position: relative;\">\\n    सरकारले आवश्यकबाहेक सबै सेवा (क्षेत्र) बन्द गरेपछि बैंक तथा वित्तीय संस्थाबाट नगद निकाल्ने क्रम बढेको छ । एटीएमबाट धेरै पैसा झिकिएको बैंकहरुले बताएका छन् । दुईचार दिनयता ढुकुटीबाट ठूलो पैसा बाहिरिएको राष्ट्र बैंकको तथ्यांक छ ।\\n   </p>\\n   <div class=\"meta-links\">\\n    <a attr-newsid=\"9508185\" class=\"saveNewsLink\" data-type=\"save-news\" onclick=\"saveNews(\\'9508185\\',this);\" style=\"cursor:pointer;\">\\n     <i class=\"icon-save\">\\n     </i>\\n     संग्रह\\n    </a>\\n    <a class=\"shareText\" data-type=\"share-news\" onclick=\"fbShare(\\'https://ekantipur.com/business/2020/03/25/158510356842444503.html\\',\\'दुई दिनमा राष्ट्र बैंकबाट तीन अर्ब बाहिरियो\\');\" style=\"cursor:pointer;\">\\n     <i class=\"icon-share\">\\n     </i>\\n     सेयर\\n    </a>\\n   </div>\\n  </article>\\n  <div class=\"pnl-control actions pull-right\">\\n   <a class=\"\" onclick=\"MainLayout.addNewsBox(this);\" title=\"Add Article\">\\n    <i class=\"icon-plus font-blue\">\\n    </i>\\n   </a>\\n   <a class=\"\" onclick=\"MainLayout.removeNewsBox(this);\" title=\"Delete Article\">\\n    <i class=\"icon-close\">\\n    </i>\\n   </a>\\n  </div>\\n </div>\\n</div>'"
      ]
     },
     "execution_count": 137,
     "metadata": {},
     "output_type": "execute_result"
    }
   ],
   "source": [
    "extraNews.prettify()"
   ]
  },
  {
   "cell_type": "code",
   "execution_count": 182,
   "metadata": {},
   "outputs": [
    {
     "name": "stdout",
     "output_type": "stream",
     "text": [
      "              0                                                  1  \\\n",
      "0  onlinekhabar    सीमा नाकाको रिपोर्ट : निर्यात शून्य, आयात नगण्य   \n",
      "1  onlinekhabar   अर्थमन्त्रीले दातृ निकायसँग भने- नेपाललाई विश...   \n",
      "2  onlinekhabar     भरतपुर कोरोना अस्पतालले माग्यो स्वास्थ्यकर्मी    \n",
      "3  onlinekhabar   भिडियो कन्फ्रेन्समार्फत परराष्ट्रमन्त्री ज्ञव...   \n",
      "4  onlinekhabar   कोरोना कोषमा उद्योग वाणिज्य महासंघ प्रदेश ५ क...   \n",
      "5  onlinekhabar   कोरोना संक्रमण देखिएका युवक कतारबाट आएका थिए,...   \n",
      "\n",
      "                                                   2  \\\n",
      "0  १२ चैत, काठमाडौं । कोभिड–१९ को प्रकोप रोक्न ने...   \n",
      "1                                                NaN   \n",
      "2                                                NaN   \n",
      "3                                                NaN   \n",
      "4                                                NaN   \n",
      "5                                                NaN   \n",
      "\n",
      "                                             3  \n",
      "0  https://www.onlinekhabar.com/2020/03/847583  \n",
      "1  https://www.onlinekhabar.com/2020/03/847590  \n",
      "2  https://www.onlinekhabar.com/2020/03/847582  \n",
      "3  https://www.onlinekhabar.com/2020/03/847572  \n",
      "4  https://www.onlinekhabar.com/2020/03/847563  \n",
      "5  https://www.onlinekhabar.com/2020/03/847585  \n"
     ]
    }
   ],
   "source": [
    "import pandas as pd\n",
    "\n",
    "# file = open('nepnews.csv', encoding='utf8', errors='ignore')\n",
    "\n",
    "df = pd.read_csv('nepnews.csv', encoding='utf8', header=None)\n",
    "# df1 = df[1:3]\n",
    "print(df.head(6))"
   ]
  },
  {
   "cell_type": "code",
   "execution_count": 17,
   "metadata": {
    "scrolled": false
   },
   "outputs": [],
   "source": [
    "from bs4 import BeautifulSoup\n",
    "import requests\n",
    "import json\n",
    "\n",
    "url = 'http://ethans_fake_twitter_site.surge.sh/'\n",
    "response = requests.get(url, timeout=5)\n",
    "content = BeautifulSoup(response.content, \"html.parser\")\n",
    "\n",
    "tweetArr = []\n",
    "for tweet in content.findAll('div', class_='tweetcontainer'):\n",
    "    tweetObject = {\n",
    "        \"author\": tweet.find('h2', attrs={\"class\": \"author\"}).text.encode('utf-8'),\n",
    "        \"date\": tweet.find('h5', attrs={\"class\": \"dateTime\"}).text.encode('utf-8'),\n",
    "        \"tweet\": tweet.find('p', attrs={\"class\": \"content\"}).text.encode('utf-8'),\n",
    "        \"likes\": tweet.find('p', attrs={\"class\": \"likes\"}).text.encode('utf-8'),\n",
    "        \"shares\": tweet.find('p', attrs={\"class\": \"shares\"}).text.encode('utf-8')\n",
    "    }\n",
    "#     print(tweet)\n",
    "    tweetArr.append(tweetObject)\n"
   ]
  },
  {
   "cell_type": "code",
   "execution_count": 203,
   "metadata": {},
   "outputs": [
    {
     "data": {
      "text/plain": [
       "dict"
      ]
     },
     "execution_count": 203,
     "metadata": {},
     "output_type": "execute_result"
    }
   ],
   "source": []
  },
  {
   "cell_type": "code",
   "execution_count": 19,
   "metadata": {},
   "outputs": [
    {
     "ename": "TypeError",
     "evalue": "Object of type bytes is not JSON serializable",
     "output_type": "error",
     "traceback": [
      "\u001b[1;31m---------------------------------------------------------------------------\u001b[0m",
      "\u001b[1;31mTypeError\u001b[0m                                 Traceback (most recent call last)",
      "\u001b[1;32m<ipython-input-19-943a9fd323f3>\u001b[0m in \u001b[0;36m<module>\u001b[1;34m\u001b[0m\n\u001b[0;32m      1\u001b[0m \u001b[1;32mwith\u001b[0m \u001b[0mopen\u001b[0m\u001b[1;33m(\u001b[0m\u001b[1;34m'twitterData.json'\u001b[0m\u001b[1;33m,\u001b[0m \u001b[1;34m'w'\u001b[0m\u001b[1;33m)\u001b[0m \u001b[1;32mas\u001b[0m \u001b[0moutfile\u001b[0m\u001b[1;33m:\u001b[0m\u001b[1;33m\u001b[0m\u001b[1;33m\u001b[0m\u001b[0m\n\u001b[1;32m----> 2\u001b[1;33m     \u001b[0mjson\u001b[0m\u001b[1;33m.\u001b[0m\u001b[0mdump\u001b[0m\u001b[1;33m(\u001b[0m\u001b[0mtweetArr\u001b[0m\u001b[1;33m,\u001b[0m \u001b[0moutfile\u001b[0m\u001b[1;33m)\u001b[0m\u001b[1;33m\u001b[0m\u001b[1;33m\u001b[0m\u001b[0m\n\u001b[0m",
      "\u001b[1;32mc:\\users\\pk202\\appdata\\local\\programs\\python\\python38-32\\lib\\json\\__init__.py\u001b[0m in \u001b[0;36mdump\u001b[1;34m(obj, fp, skipkeys, ensure_ascii, check_circular, allow_nan, cls, indent, separators, default, sort_keys, **kw)\u001b[0m\n\u001b[0;32m    177\u001b[0m     \u001b[1;31m# could accelerate with writelines in some versions of Python, at\u001b[0m\u001b[1;33m\u001b[0m\u001b[1;33m\u001b[0m\u001b[1;33m\u001b[0m\u001b[0m\n\u001b[0;32m    178\u001b[0m     \u001b[1;31m# a debuggability cost\u001b[0m\u001b[1;33m\u001b[0m\u001b[1;33m\u001b[0m\u001b[1;33m\u001b[0m\u001b[0m\n\u001b[1;32m--> 179\u001b[1;33m     \u001b[1;32mfor\u001b[0m \u001b[0mchunk\u001b[0m \u001b[1;32min\u001b[0m \u001b[0miterable\u001b[0m\u001b[1;33m:\u001b[0m\u001b[1;33m\u001b[0m\u001b[1;33m\u001b[0m\u001b[0m\n\u001b[0m\u001b[0;32m    180\u001b[0m         \u001b[0mfp\u001b[0m\u001b[1;33m.\u001b[0m\u001b[0mwrite\u001b[0m\u001b[1;33m(\u001b[0m\u001b[0mchunk\u001b[0m\u001b[1;33m)\u001b[0m\u001b[1;33m\u001b[0m\u001b[1;33m\u001b[0m\u001b[0m\n\u001b[0;32m    181\u001b[0m \u001b[1;33m\u001b[0m\u001b[0m\n",
      "\u001b[1;32mc:\\users\\pk202\\appdata\\local\\programs\\python\\python38-32\\lib\\json\\encoder.py\u001b[0m in \u001b[0;36m_iterencode\u001b[1;34m(o, _current_indent_level)\u001b[0m\n\u001b[0;32m    427\u001b[0m             \u001b[1;32myield\u001b[0m \u001b[0m_floatstr\u001b[0m\u001b[1;33m(\u001b[0m\u001b[0mo\u001b[0m\u001b[1;33m)\u001b[0m\u001b[1;33m\u001b[0m\u001b[1;33m\u001b[0m\u001b[0m\n\u001b[0;32m    428\u001b[0m         \u001b[1;32melif\u001b[0m \u001b[0misinstance\u001b[0m\u001b[1;33m(\u001b[0m\u001b[0mo\u001b[0m\u001b[1;33m,\u001b[0m \u001b[1;33m(\u001b[0m\u001b[0mlist\u001b[0m\u001b[1;33m,\u001b[0m \u001b[0mtuple\u001b[0m\u001b[1;33m)\u001b[0m\u001b[1;33m)\u001b[0m\u001b[1;33m:\u001b[0m\u001b[1;33m\u001b[0m\u001b[1;33m\u001b[0m\u001b[0m\n\u001b[1;32m--> 429\u001b[1;33m             \u001b[1;32myield\u001b[0m \u001b[1;32mfrom\u001b[0m \u001b[0m_iterencode_list\u001b[0m\u001b[1;33m(\u001b[0m\u001b[0mo\u001b[0m\u001b[1;33m,\u001b[0m \u001b[0m_current_indent_level\u001b[0m\u001b[1;33m)\u001b[0m\u001b[1;33m\u001b[0m\u001b[1;33m\u001b[0m\u001b[0m\n\u001b[0m\u001b[0;32m    430\u001b[0m         \u001b[1;32melif\u001b[0m \u001b[0misinstance\u001b[0m\u001b[1;33m(\u001b[0m\u001b[0mo\u001b[0m\u001b[1;33m,\u001b[0m \u001b[0mdict\u001b[0m\u001b[1;33m)\u001b[0m\u001b[1;33m:\u001b[0m\u001b[1;33m\u001b[0m\u001b[1;33m\u001b[0m\u001b[0m\n\u001b[0;32m    431\u001b[0m             \u001b[1;32myield\u001b[0m \u001b[1;32mfrom\u001b[0m \u001b[0m_iterencode_dict\u001b[0m\u001b[1;33m(\u001b[0m\u001b[0mo\u001b[0m\u001b[1;33m,\u001b[0m \u001b[0m_current_indent_level\u001b[0m\u001b[1;33m)\u001b[0m\u001b[1;33m\u001b[0m\u001b[1;33m\u001b[0m\u001b[0m\n",
      "\u001b[1;32mc:\\users\\pk202\\appdata\\local\\programs\\python\\python38-32\\lib\\json\\encoder.py\u001b[0m in \u001b[0;36m_iterencode_list\u001b[1;34m(lst, _current_indent_level)\u001b[0m\n\u001b[0;32m    323\u001b[0m                 \u001b[1;32melse\u001b[0m\u001b[1;33m:\u001b[0m\u001b[1;33m\u001b[0m\u001b[1;33m\u001b[0m\u001b[0m\n\u001b[0;32m    324\u001b[0m                     \u001b[0mchunks\u001b[0m \u001b[1;33m=\u001b[0m \u001b[0m_iterencode\u001b[0m\u001b[1;33m(\u001b[0m\u001b[0mvalue\u001b[0m\u001b[1;33m,\u001b[0m \u001b[0m_current_indent_level\u001b[0m\u001b[1;33m)\u001b[0m\u001b[1;33m\u001b[0m\u001b[1;33m\u001b[0m\u001b[0m\n\u001b[1;32m--> 325\u001b[1;33m                 \u001b[1;32myield\u001b[0m \u001b[1;32mfrom\u001b[0m \u001b[0mchunks\u001b[0m\u001b[1;33m\u001b[0m\u001b[1;33m\u001b[0m\u001b[0m\n\u001b[0m\u001b[0;32m    326\u001b[0m         \u001b[1;32mif\u001b[0m \u001b[0mnewline_indent\u001b[0m \u001b[1;32mis\u001b[0m \u001b[1;32mnot\u001b[0m \u001b[1;32mNone\u001b[0m\u001b[1;33m:\u001b[0m\u001b[1;33m\u001b[0m\u001b[1;33m\u001b[0m\u001b[0m\n\u001b[0;32m    327\u001b[0m             \u001b[0m_current_indent_level\u001b[0m \u001b[1;33m-=\u001b[0m \u001b[1;36m1\u001b[0m\u001b[1;33m\u001b[0m\u001b[1;33m\u001b[0m\u001b[0m\n",
      "\u001b[1;32mc:\\users\\pk202\\appdata\\local\\programs\\python\\python38-32\\lib\\json\\encoder.py\u001b[0m in \u001b[0;36m_iterencode_dict\u001b[1;34m(dct, _current_indent_level)\u001b[0m\n\u001b[0;32m    403\u001b[0m                 \u001b[1;32melse\u001b[0m\u001b[1;33m:\u001b[0m\u001b[1;33m\u001b[0m\u001b[1;33m\u001b[0m\u001b[0m\n\u001b[0;32m    404\u001b[0m                     \u001b[0mchunks\u001b[0m \u001b[1;33m=\u001b[0m \u001b[0m_iterencode\u001b[0m\u001b[1;33m(\u001b[0m\u001b[0mvalue\u001b[0m\u001b[1;33m,\u001b[0m \u001b[0m_current_indent_level\u001b[0m\u001b[1;33m)\u001b[0m\u001b[1;33m\u001b[0m\u001b[1;33m\u001b[0m\u001b[0m\n\u001b[1;32m--> 405\u001b[1;33m                 \u001b[1;32myield\u001b[0m \u001b[1;32mfrom\u001b[0m \u001b[0mchunks\u001b[0m\u001b[1;33m\u001b[0m\u001b[1;33m\u001b[0m\u001b[0m\n\u001b[0m\u001b[0;32m    406\u001b[0m         \u001b[1;32mif\u001b[0m \u001b[0mnewline_indent\u001b[0m \u001b[1;32mis\u001b[0m \u001b[1;32mnot\u001b[0m \u001b[1;32mNone\u001b[0m\u001b[1;33m:\u001b[0m\u001b[1;33m\u001b[0m\u001b[1;33m\u001b[0m\u001b[0m\n\u001b[0;32m    407\u001b[0m             \u001b[0m_current_indent_level\u001b[0m \u001b[1;33m-=\u001b[0m \u001b[1;36m1\u001b[0m\u001b[1;33m\u001b[0m\u001b[1;33m\u001b[0m\u001b[0m\n",
      "\u001b[1;32mc:\\users\\pk202\\appdata\\local\\programs\\python\\python38-32\\lib\\json\\encoder.py\u001b[0m in \u001b[0;36m_iterencode\u001b[1;34m(o, _current_indent_level)\u001b[0m\n\u001b[0;32m    436\u001b[0m                     \u001b[1;32mraise\u001b[0m \u001b[0mValueError\u001b[0m\u001b[1;33m(\u001b[0m\u001b[1;34m\"Circular reference detected\"\u001b[0m\u001b[1;33m)\u001b[0m\u001b[1;33m\u001b[0m\u001b[1;33m\u001b[0m\u001b[0m\n\u001b[0;32m    437\u001b[0m                 \u001b[0mmarkers\u001b[0m\u001b[1;33m[\u001b[0m\u001b[0mmarkerid\u001b[0m\u001b[1;33m]\u001b[0m \u001b[1;33m=\u001b[0m \u001b[0mo\u001b[0m\u001b[1;33m\u001b[0m\u001b[1;33m\u001b[0m\u001b[0m\n\u001b[1;32m--> 438\u001b[1;33m             \u001b[0mo\u001b[0m \u001b[1;33m=\u001b[0m \u001b[0m_default\u001b[0m\u001b[1;33m(\u001b[0m\u001b[0mo\u001b[0m\u001b[1;33m)\u001b[0m\u001b[1;33m\u001b[0m\u001b[1;33m\u001b[0m\u001b[0m\n\u001b[0m\u001b[0;32m    439\u001b[0m             \u001b[1;32myield\u001b[0m \u001b[1;32mfrom\u001b[0m \u001b[0m_iterencode\u001b[0m\u001b[1;33m(\u001b[0m\u001b[0mo\u001b[0m\u001b[1;33m,\u001b[0m \u001b[0m_current_indent_level\u001b[0m\u001b[1;33m)\u001b[0m\u001b[1;33m\u001b[0m\u001b[1;33m\u001b[0m\u001b[0m\n\u001b[0;32m    440\u001b[0m             \u001b[1;32mif\u001b[0m \u001b[0mmarkers\u001b[0m \u001b[1;32mis\u001b[0m \u001b[1;32mnot\u001b[0m \u001b[1;32mNone\u001b[0m\u001b[1;33m:\u001b[0m\u001b[1;33m\u001b[0m\u001b[1;33m\u001b[0m\u001b[0m\n",
      "\u001b[1;32mc:\\users\\pk202\\appdata\\local\\programs\\python\\python38-32\\lib\\json\\encoder.py\u001b[0m in \u001b[0;36mdefault\u001b[1;34m(self, o)\u001b[0m\n\u001b[0;32m    177\u001b[0m \u001b[1;33m\u001b[0m\u001b[0m\n\u001b[0;32m    178\u001b[0m         \"\"\"\n\u001b[1;32m--> 179\u001b[1;33m         raise TypeError(f'Object of type {o.__class__.__name__} '\n\u001b[0m\u001b[0;32m    180\u001b[0m                         f'is not JSON serializable')\n\u001b[0;32m    181\u001b[0m \u001b[1;33m\u001b[0m\u001b[0m\n",
      "\u001b[1;31mTypeError\u001b[0m: Object of type bytes is not JSON serializable"
     ]
    }
   ],
   "source": [
    "with open('twitterData.json', 'w') as outfile:\n",
    "    json.dump(tweetArr, outfile)"
   ]
  },
  {
   "cell_type": "code",
   "execution_count": 25,
   "metadata": {},
   "outputs": [],
   "source": [
    "import json\n",
    "\n",
    "data = {}\n",
    "data['people'] = []\n",
    "data['people'].append({\n",
    "    'name': 'Scott',\n",
    "    'website': 'stackabuse.com',\n",
    "    'from': 'Nebraska'\n",
    "})\n",
    "data['people'].append({\n",
    "    'name': 'Larry',\n",
    "    'website': 'google.com',\n",
    "    'from': 'Michigan'\n",
    "})\n",
    "data['people'].append({\n",
    "    'name': 'Tim',\n",
    "    'website': 'apple.com',\n",
    "    'from': 'Alabama'\n",
    "})\n",
    "\n",
    "with open('data.json', 'w') as outfile:\n",
    "    json.dump(data, outfile)"
   ]
  },
  {
   "cell_type": "code",
   "execution_count": 16,
   "metadata": {},
   "outputs": [
    {
     "data": {
      "text/plain": [
       "[{'name': 'Scott', 'website': 'stackabuse.com', 'from': 'Nebraska'},\n",
       " {'name': 'Larry', 'website': 'google.com', 'from': 'Michigan'},\n",
       " {'name': 'Tim', 'website': 'apple.com', 'from': 'Alabama'}]"
      ]
     },
     "execution_count": 16,
     "metadata": {},
     "output_type": "execute_result"
    }
   ],
   "source": [
    "data"
   ]
  },
  {
   "cell_type": "code",
   "execution_count": null,
   "metadata": {},
   "outputs": [],
   "source": []
  }
 ],
 "metadata": {
  "kernelspec": {
   "display_name": "Python 3",
   "language": "python",
   "name": "python3"
  },
  "language_info": {
   "codemirror_mode": {
    "name": "ipython",
    "version": 3
   },
   "file_extension": ".py",
   "mimetype": "text/x-python",
   "name": "python",
   "nbconvert_exporter": "python",
   "pygments_lexer": "ipython3",
   "version": "3.8.2"
  }
 },
 "nbformat": 4,
 "nbformat_minor": 4
}
